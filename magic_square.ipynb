{
 "cells": [
  {
   "cell_type": "markdown",
   "id": "7af5d43d",
   "metadata": {},
   "source": [
    "# SCT-254-065/2018 JOY AKINYI"
   ]
  },
  {
   "cell_type": "code",
   "execution_count": 3,
   "id": "8c5ddf72",
   "metadata": {},
   "outputs": [],
   "source": [
    "def magic_square(matrix_ms):\n",
    "    iSize = len(matrix_ms[0])\n",
    "    sum_list = []\n",
    "    \n",
    "    for col in range(iSize):\n",
    "        sum_list.append(sum(row[col] for row in matrix_ms))\n",
    "        \n",
    "    sum_list.extend([sum (lines) for lines in matrix_ms])\n",
    "    \n",
    "    dlResult = 0\n",
    "    for i in range(0,iSize):\n",
    "        dlResult +=matrix_ms[i][i]\n",
    "    sum_list.append(dlResult)\n",
    "    drResult = 0\n",
    "    for i in range(iSize-1,-1,-1):\n",
    "        drResult +=matrix_ms[i][i]\n",
    "    sum_list.append(drResult)\n",
    "    if len(set(sum_list))>1:\n",
    "        return False\n",
    "    return True\n"
   ]
  },
  {
   "cell_type": "code",
   "execution_count": 5,
   "id": "57312116",
   "metadata": {},
   "outputs": [
    {
     "name": "stdout",
     "output_type": "stream",
     "text": [
      "True\n"
     ]
    }
   ],
   "source": [
    "print(magic_square([[8,1,6], [3,5,7], [4,9,2]]))"
   ]
  },
  {
   "cell_type": "code",
   "execution_count": 5,
   "id": "bafde56d",
   "metadata": {},
   "outputs": [
    {
     "name": "stdout",
     "output_type": "stream",
     "text": [
      "False\n"
     ]
    }
   ],
   "source": [
    "print(magic_square([[2,8,13,12], [15,11,2,7], [5,5,16,9], [16,10,3,6]]))"
   ]
  }
 ],
 "metadata": {
  "kernelspec": {
   "display_name": "Python 3 (ipykernel)",
   "language": "python",
   "name": "python3"
  },
  "language_info": {
   "codemirror_mode": {
    "name": "ipython",
    "version": 3
   },
   "file_extension": ".py",
   "mimetype": "text/x-python",
   "name": "python",
   "nbconvert_exporter": "python",
   "pygments_lexer": "ipython3",
   "version": "3.10.5"
  }
 },
 "nbformat": 4,
 "nbformat_minor": 5
}
